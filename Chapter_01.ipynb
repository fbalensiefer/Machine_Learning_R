{
 "cells": [
  {
   "cell_type": "markdown",
   "metadata": {},
   "source": [
    "# An Introduction to Statistical Learning in R"
   ]
  },
  {
   "cell_type": "markdown",
   "metadata": {},
   "source": [
    "## Introduction to Statistical Learning"
   ]
  },
  {
   "cell_type": "markdown",
   "metadata": {},
   "source": [
    "What is Statistical Learning?\n",
    "$\\hat{=}$ are tools for understanding data\n",
    "\n",
    "$\\Rightarrow$ **supervised learning**\n",
    "statistical models for predicting/ estimating an output based on one or more inputs\n",
    "\n",
    "$\\Rightarrow$ **unsupervised learning**\n",
    "inputs but no supervised outputs $\\rightarrow$ instead analysis of the relationships and structure of the data (*cluster analysis*)\n",
    "\n",
    "Think of a model $Y=f(X)+\\epsilon$ where $Y$ is the output/ response, $X$ are input variables and $\\epsilon$ is the systematic error. The general idea is to find a function $f(\\cdot)$ respresenting systematic information.  "
   ]
  },
  {
   "cell_type": "markdown",
   "metadata": {},
   "source": [
    "### Reasons to estimate $f(\\cdot)$\n",
    "\n",
    "#### Prediction\n",
    "using input $X$ and response $Y$ to predict $\\hat{Y}$ for $X$ where we cannot observe the response.\n",
    "\n",
    "$\\hat{Y}=\\hat{f}(X)$\n",
    "\n",
    "here $\\hat{f}(X)$ is often treated as Black Box and we are just interested in finding the best\n",
    "prediction.\n",
    "$E(Y-\\hat{Y})^2=E(f(X)+\\epsilon-\\hat{f}(X))^2=(f(X)-\\hat{f}(X))^2+Var(\\epsilon)$\n",
    "\n",
    "Thus, we can distinct between a reduceable error and an irreduceable error.\n",
    "\n",
    "Note: irreduceable error $\\epsilon$ is larger than zero $\\rightarrow$ $\\epsilon$ may \n",
    "contain unmeasured/ unobserved variables  \n",
    "    \n",
    "#### Inference\n",
    "understanding relationships between $X$ and $Y$ $\\Rightarrow$ $\\hat{f}(\\cdot)$ can not be \n",
    "treated as Black Box. \n",
    " - Which predictors are associated with the response?\n",
    " - What is the relationship between Response and each predictor?\n",
    " - Can the relationship be adequately summarized using linear models?"
   ]
  },
  {
   "cell_type": "markdown",
   "metadata": {},
   "source": [
    "### How to estimate $f(\\cdot)$\n",
    "    \n",
    "Idea: using training data to fit a model $\\hat{f}(X)$ such that\n",
    "      $Y \\approx \\hat{f}(X) \\qquad \\forall (X,Y)$\n",
    "      \n",
    "$\\Rightarrow$ there are two major approches in statistical learning for estimating $f(\\cdot)$\n",
    "       \n",
    "* parametric methods\n",
    "* non-parametric methods"
   ]
  },
  {
   "cell_type": "markdown",
   "metadata": {},
   "source": [
    "### Parametric Methods\n",
    "\n",
    "are in general two-step model based approaches\n",
    "\n",
    " 1. make assumptions about the functional form \n",
    "    $f(X)=\\beta_0 + \\beta_1 X_1 + \\beta_2 X_2 + \\dots + \\beta_p X_p$\n",
    " \n",
    " 2. use training data to fit the model\n",
    "    $Y \\approx \\beta_0 + \\beta_1 X_1 + \\beta_2 X_2 + \\dots + \\beta_p X_p$\n",
    "    often estimated by least-squares estimation\n",
    "    Trade-off: flexibility vs. overfitting\n",
    "    \n",
    "Note: overfitting $\\hat{=}$ complex models which follow the errors/ noise too closely"
   ]
  },
  {
   "cell_type": "markdown",
   "metadata": {},
   "source": [
    "### Non-parametric Methods\n",
    "\n",
    "estimating $f(\\cdot)$ without any assumptions about the functional form of $f$.\n",
    "\n",
    "$\\Rightarrow$ seek an estimate of $f(\\cdot)$ that gets as close to the data points as possible without beeing too rough\n",
    "\n",
    "methods:\n",
    "\n",
    " * Polynomial Regression\n",
    " * Step functions\n",
    " * Regression Splines\n",
    " \n",
    "Note: \n",
    " - need much more data points for accuracy\n",
    " - again problem of overfitting\n",
    " \n",
    "Trade-off: Prediction Accuracy vs. Interpretability"
   ]
  },
  {
   "cell_type": "markdown",
   "metadata": {},
   "source": [
    "### Why would we ever choose a more restrictive method instead of a very flexible approach?\n",
    "\n",
    "restrictive models are much more interpretable $\\Rightarrow$ better for Inference\n",
    "\n",
    "Note: more flexible methods for prediction are often NOT more accurate!"
   ]
  },
  {
   "cell_type": "markdown",
   "metadata": {},
   "source": [
    "### Regression vs Classificaion Problems\n",
    "\n",
    "Variables can be characterized as either:\n",
    "\n",
    " * quantitative $\\Rightarrow$ Regression Problem\n",
    " \n",
    " * qualitative (categorical) $\\Rightarrow$ Classification Problem\n",
    "   "
   ]
  },
  {
   "cell_type": "markdown",
   "metadata": {},
   "source": [
    "### Assessing Model Accuracy\n",
    "\n",
    " * Mean squared error (MSE) \n",
    "   (training MSE/ error)\n",
    "   \n",
    "   $MSE = \\frac{1}{n} \\sum_{i=1}^n (y_i-\\hat{f}(x_i))^2$\n",
    "   \n",
    " * Average test error\n",
    "   (test MSE)\n",
    "   \n",
    "   $Ave(y_0-\\hat{f}(x_0)) \\qquad (x_0,y_0) \\text{test observations}$\n",
    "   \n",
    "Note: model flexibility producing U-shape MSE & test MSE\n",
    "\n",
    "**Assessing Model Accuracy for Classification Problems**\n",
    "\n",
    " * $MSE = \\frac{1}{n} \\sum_{i=1}^n I(y_i \\neq \\hat{y_i})$\n",
    " \n",
    " * $Ave (I(y_i \\neq \\hat{y_i}))$"
   ]
  },
  {
   "cell_type": "markdown",
   "metadata": {},
   "source": [
    "## References for this and the following Chapters\n",
    "\n",
    "*James, G., Witten, D., Hastie, T., & Tibshirani, R. (2013). An introduction to statistical learning (Vol. 112, p. 18). New York: springer.*\n",
    "\n",
    "*Hastie, T., Tibshirani, R., Friedman, J., & Franklin, J. (2005). The elements of statistical learning: data mining, inference and prediction. The Mathematical Intelligencer, 27(2), 83-85.*"
   ]
  }
 ],
 "metadata": {
  "kernelspec": {
   "display_name": "R",
   "language": "R",
   "name": "ir"
  },
  "language_info": {
   "codemirror_mode": "r",
   "file_extension": ".r",
   "mimetype": "text/x-r-source",
   "name": "R",
   "pygments_lexer": "r",
   "version": "3.6.0"
  }
 },
 "nbformat": 4,
 "nbformat_minor": 2
}
