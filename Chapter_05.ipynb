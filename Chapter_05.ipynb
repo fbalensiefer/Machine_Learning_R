{
 "cells": [
  {
   "cell_type": "markdown",
   "metadata": {},
   "source": [
    "# Modeling Non-Linearities\n",
    "\n",
    "linear models are simple to describe, implement and interpret\n",
    "\n",
    "But: have significant limitations in terms of predictive power\n",
    "\n",
    "Ridge Regression, Lasso, PCR and others try to reduce variance of estimates, but still model linearities\n",
    "\n",
    "**Non-Linear Models:**\n",
    "    - Polynomial Regression\n",
    "    \n",
    "    - Step Functions\n",
    "    \n",
    "    - Regression Splines"
   ]
  },
  {
   "cell_type": "markdown",
   "metadata": {},
   "source": [
    "## Polynomial Regression\n",
    "\n",
    "consider the forllowing linear model\n",
    "\n",
    "$$ y_i = \\beta_0 + \\beta_1 x_i +\\epsilon_i $$\n",
    "\n",
    "a corresponding Polynomial models would be\n",
    "\n",
    "$$ y_i = \\beta_0 + \\beta_1 x_i + \\beta_1 x_i + \\beta_2 x_i^2 +\\dots + \\beta_d x_i^d +\\epsilon_i $$\n",
    "\n",
    "Hence, Polynomial Regression allows for extremly non-linear curves\n",
    "\n",
    "### Computation of SE and CI for Polynomial Regression\n",
    "\n",
    "think of a model\n",
    "\n",
    "$$ \\hat{f}(x_0) = \\hat{\\beta}_0 + \\hat{\\beta}_1 x_i + \\hat{\\beta}_2 x_i + \\hat{\\beta}_3 x_i^2 + \\hat{\\beta}_4 x_i^3 $$\n",
    "\n",
    "estimation uses least squares and the variance is\n",
    "\n",
    "$$ Var(\\hat{f}(x_0)) = l_0'\\hat{C}l_0 $$\n",
    "\n",
    "Where $l_0' = (1,x_0,x_0^2,x_0^3)$ and $\\hat{C}$ is the $4 \\times 4$ covarite matrix.\n",
    "\n",
    "From least squares models we know that\n",
    "\n",
    "$$ SE = \\sqrt{Var(\\hat{f}(x_0))} $$\n",
    "\n",
    "$$ CI \\approx \\hat{f}(x_0) \\pm 2*SE $$\n",
    "\n",
    "### Logistic Polynomial Regression\n",
    "\n",
    "$$ Pr(y_i>250|x_i) = \\frac{exp\\{\\beta_0 + \\beta_1 x_i + \\beta_1 x_i + \\beta_2 x_i^2 +\\dots + \\beta_d x_i^d\\}} {1+exp\\{\\beta_0 + \\beta_1 x_i + \\beta_1 x_i + \\beta_2 x_i^2 +\\dots + \\beta_d x_i^d\\}} $$\n",
    "\n",
    "same estimation as in standard Logistic Regression approach"
   ]
  },
  {
   "cell_type": "markdown",
   "metadata": {},
   "source": [
    "## Step Functions\n",
    "\n",
    "**Idea:** \n",
    "break the range of $X$ intro different bins $\\Rightarrow$ fit a different constant in each bin\n",
    "\n",
    "**Procedure:**\n",
    " 1. create cutpoints $c_1,c_2,\\dots,c_k$ in the range of $X$\n",
    " \n",
    " 2. create $k+1$ Dummy Variables $$C_{k-1}=I(C_{k-1}\\leq X < C_k)$$ with $C_i \\in \\{0,1\\}\\quad ,\\forall i$ and $\\sum_{i=1}^k C_i(x)=1 \\quad ,\\forall x$\n",
    " \n",
    " 3. fit a linear model using least squares $$y_i=\\beta_0+\\beta_1 C_1(x_i) + \\beta_2 C_2(x_i) + \\dots + \\beta_k C_k(x_i) + \\epsilon_i$$ \n",
    " \n",
    "agian step functions can be performed using Logistic Regressions\n",
    " \n",
    "### What is the problem with Step Functions?\n",
    "\n",
    "unsless there are natural breakpoints, step functions can miss action (e.g. increasing linear trends)"
   ]
  },
  {
   "cell_type": "markdown",
   "metadata": {},
   "source": [
    "## Basis Functions\n",
    "\n",
    "**Idea:** \n",
    "use any function/ transformation of $X$ in $b(X)$ such that\n",
    "\n",
    "$$y_i=\\beta_0+\\beta_1 b_1(x_i) + \\beta_2 b_2(x_i) + \\dots + \\beta_k b_k(x_i) + \\epsilon_i$$ \n",
    "\n",
    "Note: Polynomial Regression and Step-functions where special cases of basis functions\n",
    "\n",
    " * $b_j(x_i)=x_i^j$\n",
    " \n",
    " * $b_j(x_i)=I(C_j \\leq x_i <C_{j+1})$\n",
    " \n",
    "we can apply all tools available for least squares estimation, Inference, etc."
   ]
  },
  {
   "cell_type": "markdown",
   "metadata": {},
   "source": [
    "## Regression Splines\n",
    "\n",
    "**Idea:**\n",
    "piecewise polynomial regression with fitting the polynomial on different regions of $X$ (like a combination of polynomial regression and step functions)\n",
    "\n",
    "$$\n",
    "y_i= \n",
    "\\begin{cases}\n",
    "\\beta_{01}+\\beta_{11} x_i + \\beta_{21} x_i^2 + \\dots + \\beta_{d1} x_i^d + \\epsilon_i \\quad , x_i<c \\\\\n",
    "\\beta_{02}+\\beta_{12} x_i + \\beta_{22} x_i^2 + \\dots + \\beta_{d2} x_i^d + \\epsilon_i \\quad , x_i\\geq c \n",
    "\\end{cases}\n",
    "$$\n",
    "\n",
    "Thresholds are calles knotes, more knots $\\Rightarrow$ more flexible piecewise polynomial\n",
    "\n",
    "**natural Spline**\n",
    "regression spline with additional boundary constraints (function is required to be linear at the boundary)\n",
    "\n",
    "### Where to place knots?\n",
    "\n",
    " - more knots $\\Rightarrow$ more flexible function\n",
    " \n",
    " - at points where the function needs to be flexible \n",
    " \n",
    " - *often place knots uniformly*\n",
    " \n",
    "### How many kntos should we use?\n",
    "\n",
    "**apply CV:**\n",
    " 1. remove portion of data\n",
    " \n",
    " 2. fit spline with certain number on knots\n",
    " \n",
    " 3. make predictions\n",
    "\n",
    " 4. repeat until each set was used for training\n",
    " \n",
    " 5. calculate RSS\n",
    " \n",
    " 6. repeat with different number of knots and compare!\n",
    " \n",
    "### Comparing Polynomials and Splines\n",
    "\n",
    "Regression Splines often give superoir results to polynomial regressions.\n",
    "\n",
    " - polynomials need high degree to be flexible\n",
    " \n",
    " - splines introduce flexibility by increasing knots and keep degree fixed\n",
    " \n",
    "**generally Regression Splines produce more stable estimates!**"
   ]
  },
  {
   "cell_type": "markdown",
   "metadata": {},
   "source": [
    "## Exercises\n",
    "\n",
    "Consider the following data generating process in which we have n observations and one covariate X covariates additional to a constant. $X \\sim N_p(0, \\sigma^2)$. $\\beta = (1 1.5 (−1.5) 1.5)$ and the errors are drawn from a normal distribution $\\epsilon \\sim N (0, 1)$. The model is generated by $y_i = \\beta_0 + \\beta_1 x_i + \\beta_2 x_i^2 + \\beta_3 x_i^3 + \\epsilon_i$.\n",
    "\n",
    "a) Calculate the analytical standard errors for the polynomial specification above (as presented in the lecture) and use these to calculate the approximate confidence intervals as $2*SE$ for each value of $X$ you consider."
   ]
  },
  {
   "cell_type": "code",
   "execution_count": null,
   "metadata": {},
   "outputs": [],
   "source": []
  },
  {
   "cell_type": "markdown",
   "metadata": {},
   "source": [
    "b) Calculate the naive bootstrap confidence intervals for B bootstrap draws from the original data, such that the nominal coverage for the two methods is the same."
   ]
  },
  {
   "cell_type": "code",
   "execution_count": null,
   "metadata": {},
   "outputs": [],
   "source": []
  },
  {
   "cell_type": "markdown",
   "metadata": {},
   "source": [
    "c) Calculate the coverage probability at four different values of X, chosen by you."
   ]
  },
  {
   "cell_type": "code",
   "execution_count": null,
   "metadata": {},
   "outputs": [],
   "source": []
  },
  {
   "cell_type": "markdown",
   "metadata": {},
   "source": [
    "d) Calculate the interval length at four different values of X."
   ]
  },
  {
   "cell_type": "code",
   "execution_count": null,
   "metadata": {},
   "outputs": [],
   "source": []
  },
  {
   "cell_type": "markdown",
   "metadata": {},
   "source": [
    "**Simulation Study**\n",
    "\n",
    "Evaluate the two types of confidence intervals above along two dimensions: interval length and coverage probability.\n",
    "\n",
    "a) Calculate both for a small simulation study of 100 repetitions."
   ]
  },
  {
   "cell_type": "code",
   "execution_count": null,
   "metadata": {},
   "outputs": [],
   "source": []
  },
  {
   "cell_type": "markdown",
   "metadata": {},
   "source": [
    "b) How could you change the data-generating process to give a competitive advantage to the bootstrap?\n",
    "Suggest two changes and check each in a simulation study."
   ]
  },
  {
   "cell_type": "code",
   "execution_count": null,
   "metadata": {},
   "outputs": [],
   "source": []
  }
 ],
 "metadata": {
  "kernelspec": {
   "display_name": "R",
   "language": "R",
   "name": "ir"
  },
  "language_info": {
   "codemirror_mode": "r",
   "file_extension": ".r",
   "mimetype": "text/x-r-source",
   "name": "R",
   "pygments_lexer": "r",
   "version": "3.6.0"
  }
 },
 "nbformat": 4,
 "nbformat_minor": 2
}
