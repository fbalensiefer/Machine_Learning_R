{
 "cells": [
  {
   "cell_type": "markdown",
   "metadata": {},
   "source": [
    "# Modeling Non-Linearities\n",
    "\n",
    "linear models are simple to describe, implement and interpret\n",
    "\n",
    "But: have significant limitations in terms of predictive power\n",
    "\n",
    "Ridge Regression, Lasso, PCR and others try to reduce variance of estimates, but still model linearities\n",
    "\n",
    "**Non-Linear Models:**\n",
    "    - Polynomial Regression\n",
    "    \n",
    "    - Step Functions\n",
    "    \n",
    "    - Regression Splines"
   ]
  },
  {
   "cell_type": "markdown",
   "metadata": {},
   "source": [
    "## Polynomial Regression\n",
    "\n",
    "consider the following linear model\n",
    "\n",
    "$$ y_i = \\beta_0 + \\beta_1 x_i +\\epsilon_i $$\n",
    "\n",
    "a corresponding Polynomial models would be\n",
    "\n",
    "$$ y_i = \\beta_0 + \\beta_1 x_i + \\beta_1 x_i + \\beta_2 x_i^2 +\\dots + \\beta_d x_i^d +\\epsilon_i $$\n",
    "\n",
    "Hence, Polynomial Regression allows for extremly non-linear curves\n",
    "\n",
    "### Computation of SE and CI for Polynomial Regression\n",
    "\n",
    "think of a model\n",
    "\n",
    "$$ \\hat{f}(x_0) = \\hat{\\beta}_0 + \\hat{\\beta}_1 x_i + \\hat{\\beta}_2 x_i + \\hat{\\beta}_3 x_i^2 + \\hat{\\beta}_4 x_i^3 $$\n",
    "\n",
    "estimation uses least squares and the variance is\n",
    "\n",
    "$$ Var(\\hat{f}(x_0)) = l_0'\\hat{C}l_0 $$\n",
    "\n",
    "Where $l_0' = (1,x_0,x_0^2,x_0^3)$ and $\\hat{C}$ is the $4 \\times 4$ covarite matrix.\n",
    "\n",
    "From least squares models we know that\n",
    "\n",
    "$$ SE = \\sqrt{Var(\\hat{f}(x_0))} $$\n",
    "\n",
    "$$ CI \\approx \\hat{f}(x_0) \\pm 2*SE $$\n",
    "\n",
    "### Logistic Polynomial Regression\n",
    "\n",
    "$$ Pr(y_i>250|x_i) = \\frac{exp\\{\\beta_0 + \\beta_1 x_i + \\beta_1 x_i + \\beta_2 x_i^2 +\\dots + \\beta_d x_i^d\\}} {1+exp\\{\\beta_0 + \\beta_1 x_i + \\beta_1 x_i + \\beta_2 x_i^2 +\\dots + \\beta_d x_i^d\\}} $$\n",
    "\n",
    "same estimation as in standard Logistic Regression approach"
   ]
  },
  {
   "cell_type": "markdown",
   "metadata": {},
   "source": [
    "## Step Functions\n",
    "\n",
    "**Idea:** \n",
    "break the range of $X$ into different bins $\\Rightarrow$ fit a different constant in each bin\n",
    "\n",
    "**Procedure:**\n",
    " 1. create cutpoints $c_1,c_2,\\dots,c_k$ in the range of $X$\n",
    " \n",
    " 2. create $k+1$ Dummy Variables $$C_{k-1}=I(C_{k-1}\\leq X < C_k)$$ with $C_i \\in \\{0,1\\}\\quad ,\\forall i$ and $\\sum_{i=1}^k C_i(x)=1 \\quad ,\\forall x$\n",
    " \n",
    " 3. fit a linear model using least squares $$y_i=\\beta_0+\\beta_1 C_1(x_i) + \\beta_2 C_2(x_i) + \\dots + \\beta_k C_k(x_i) + \\epsilon_i$$ \n",
    " \n",
    "again step functions can be performed using Logistic Regressions\n",
    " \n",
    "### What is the problem with Step Functions?\n",
    "\n",
    "unsless there are natural breakpoints, step functions can miss action (e.g. increasing linear trends)"
   ]
  },
  {
   "cell_type": "markdown",
   "metadata": {},
   "source": [
    "## Basis Functions\n",
    "\n",
    "**Idea:** \n",
    "use any function/ transformation of $X$ in $b(X)$ such that\n",
    "\n",
    "$$y_i=\\beta_0+\\beta_1 b_1(x_i) + \\beta_2 b_2(x_i) + \\dots + \\beta_k b_k(x_i) + \\epsilon_i$$ \n",
    "\n",
    "Note: Polynomial Regression and Step-functions where special cases of basis functions\n",
    "\n",
    " * $b_j(x_i)=x_i^j$\n",
    " \n",
    " * $b_j(x_i)=I(C_j \\leq x_i <C_{j+1})$\n",
    " \n",
    "we can apply all tools available for least squares estimation, Inference, etc."
   ]
  },
  {
   "cell_type": "markdown",
   "metadata": {},
   "source": [
    "## Regression Splines\n",
    "\n",
    "**Idea:**\n",
    "piecewise polynomial regression with fitting the polynomial on different regions of $X$ (like a combination of polynomial regression and step functions)\n",
    "\n",
    "$$\n",
    "y_i= \n",
    "\\begin{cases}\n",
    "\\beta_{01}+\\beta_{11} x_i + \\beta_{21} x_i^2 + \\dots + \\beta_{d1} x_i^d + \\epsilon_i \\quad , x_i<c \\\\\n",
    "\\beta_{02}+\\beta_{12} x_i + \\beta_{22} x_i^2 + \\dots + \\beta_{d2} x_i^d + \\epsilon_i \\quad , x_i\\geq c \n",
    "\\end{cases}\n",
    "$$\n",
    "\n",
    "Thresholds are called knots, more knots $\\Rightarrow$ more flexible piecewise polynomial\n",
    "\n",
    "![](splines.png \"cubic regression spline with different constraints\")\n",
    "\n",
    "The figure above shows a cubic regression spline with different constraints. Top right, is unconstrained, while top left requires continuity at the threshold. The bottom left enforces smoothness at the threshold, by requiring first and second derivatives to be continuous (thus, we do not have the V-shaped look at the threshold as in top right).\n",
    "\n",
    "**Spline Basis Representation:**\n",
    "\n",
    "Let's stick with the example above, representing a cubic regression spline with knot (threshold) at $\\xi$. \n",
    "\n",
    "To ensure smoothness, we constraint our spline to be continuous at $f(\\xi)$, $f'(\\xi)$ and $f''(\\xi)$. This can be done by adding a *tunkated power basis* function per knot.\n",
    "\n",
    "$$ h(x,\\xi)=\n",
    "\\begin{cases}\n",
    "(x-\\xi)_+^3 \\quad, x>\\xi \\\\\n",
    "0 \\qquad, otherwise\n",
    "\\end{cases}\n",
    "$$\n",
    "\n",
    "Thus the frist two derivates exist (due to the power of $3$). \n",
    "\n",
    "The Spline (bottom left) is respresented as:\n",
    "\n",
    "$$ y_i=\\beta_0 +\\beta_1 x_i +\\beta_2 x_i^2 +\\beta_3 x_i^3 +\\beta_4 h(x_i,\\xi) +\\epsilon_i $$\n",
    "\n",
    "**natural Spline**\n",
    "regression spline with additional boundary constraints (function is required to be linear at the boundary)\n",
    "\n",
    "### Where to place knots?\n",
    "\n",
    " - more knots $\\Rightarrow$ more flexible function\n",
    " \n",
    " - at points where the function needs to be flexible \n",
    " \n",
    " - *often place knots uniformly*\n",
    " \n",
    "### How many knots should we use?\n",
    "\n",
    "**apply CV:**\n",
    " 1. remove portion of data\n",
    " \n",
    " 2. fit spline with certain number on knots\n",
    " \n",
    " 3. make predictions\n",
    "\n",
    " 4. repeat until each set was used for training\n",
    " \n",
    " 5. calculate RSS\n",
    " \n",
    " 6. repeat with different number of knots and compare!\n",
    " \n",
    "### Comparing Polynomials and Splines\n",
    "\n",
    "Regression Splines often give superior results to polynomial regressions.\n",
    "\n",
    " - polynomials need high degree to be flexible\n",
    " \n",
    " - splines introduce flexibility by increasing knots and keep degree fixed\n",
    " \n",
    "**generally Regression Splines produce more stable estimates!**"
   ]
  },
  {
   "cell_type": "markdown",
   "metadata": {},
   "source": [
    "## Exercises\n",
    "\n",
    "Consider the following data generating process in which we have n observations and one covariate X covariates additional to a constant. $X \\sim N_p(0, \\sigma^2)$. $\\beta' = (1, 1.5, −1.5, 1.5)$ and the errors are drawn from a normal distribution $\\epsilon \\sim N (0, 1)$. The model is generated by $y_i = \\beta_0 + \\beta_1 x_i + \\beta_2 x_i^2 + \\beta_3 x_i^3 + \\epsilon_i$."
   ]
  },
  {
   "cell_type": "code",
   "execution_count": 9,
   "metadata": {},
   "outputs": [],
   "source": [
    "rm(list=ls())\n",
    "library(boot) # Bootstrap\n",
    "\n",
    "## DGP\n",
    "# Simulating OLS samples and plot the regression lines\n",
    "set.seed(123)\n",
    "# Two explanatory variables plus an intercept:\n",
    "N         <- 200\n",
    "X.1       <- rep(1, N)\n",
    "X.2      <- rnorm(N, mean=0, sd=1) # (pseudo) random numbers form a normal distr\n",
    "X         <- cbind(X.1, X.2,X.2^2,X.2^3)\n",
    "# Homoscedastic error term\n",
    "eps       <-rnorm(N,0,10)# \n",
    "beta.vec  <- c(1,1.5,-1.5,1.5)\n",
    "y         <- X %*% beta.vec + eps"
   ]
  },
  {
   "cell_type": "markdown",
   "metadata": {},
   "source": [
    "a) Calculate the analytical standard errors for the polynomial specification above (as presented in the lecture) and use these to calculate the approximate confidence intervals as $2*SE$ for each value of $X$ you consider."
   ]
  },
  {
   "cell_type": "code",
   "execution_count": 15,
   "metadata": {},
   "outputs": [
    {
     "data": {
      "text/html": [
       "<table>\n",
       "<caption>A matrix: 4 × 1 of type dbl</caption>\n",
       "<tbody>\n",
       "\t<tr><th scope=row>X.1</th><td> 0.6712096</td></tr>\n",
       "\t<tr><th scope=row>X.2</th><td> 0.1842706</td></tr>\n",
       "\t<tr><th scope=row></th><td>-0.7513726</td></tr>\n",
       "\t<tr><th scope=row></th><td> 1.7823084</td></tr>\n",
       "</tbody>\n",
       "</table>\n"
      ],
      "text/latex": [
       "A matrix: 4 × 1 of type dbl\n",
       "\\begin{tabular}{r|l}\n",
       "\tX.1 &  0.6712096\\\\\n",
       "\tX.2 &  0.1842706\\\\\n",
       "\t & -0.7513726\\\\\n",
       "\t &  1.7823084\\\\\n",
       "\\end{tabular}\n"
      ],
      "text/markdown": [
       "\n",
       "A matrix: 4 × 1 of type dbl\n",
       "\n",
       "| X.1 |  0.6712096 |\n",
       "| X.2 |  0.1842706 |\n",
       "| <!----> | -0.7513726 |\n",
       "| <!----> |  1.7823084 |\n",
       "\n"
      ],
      "text/plain": [
       "    [,1]      \n",
       "X.1  0.6712096\n",
       "X.2  0.1842706\n",
       "    -0.7513726\n",
       "     1.7823084"
      ]
     },
     "metadata": {},
     "output_type": "display_data"
    },
    {
     "data": {
      "image/png": "[encoded data removed]",
      "text/plain": [
       "Plot with title “Estimated Model vs True DGP”"
      ]
     },
     "metadata": {},
     "output_type": "display_data"
    },
    {
     "data": {
      "image/png": "[encoded data removed]",
      "text/plain": [
       "Plot with title “Estimated Model with analytical CI”"
      ]
     },
     "metadata": {},
     "output_type": "display_data"
    }
   ],
   "source": [
    "## computing SE and CI by relying on 2*SE\n",
    "# Solving for beta hat\n",
    "beta.hat <- solve(t(X) %*% X) %*% t(X) %*% y\n",
    "beta.hat\n",
    "x.grid<-sort(X.2) #\n",
    "true_model<-beta.vec[1]+beta.vec[2]*x.grid+beta.vec[3]*x.grid^2+beta.vec[4]*x.grid^3\n",
    "estim_model<-beta.hat[1]+beta.hat[2]*x.grid+beta.hat[3]*x.grid^2+beta.hat[4]*x.grid^3\n",
    "plot(estim_model,main=\"Estimated Model vs True DGP\",type=\"l\")\n",
    "lines(true_model,type=\"l\",lty=1,col=\"red\")\n",
    "y.hat<- X %*% beta.hat \n",
    "eps.hat<-y-X %*% beta.hat\n",
    "se<-(t(eps.hat)%*%(eps.hat))/(N-5)\n",
    "cov<-se[1]*solve(t(X) %*% X)\n",
    "new_data<-X[order(X[,2]),]\n",
    "var<-c()\n",
    "for(i in 1:N)\n",
    "{\n",
    "  var[i]=t(new_data[i,])%*%cov%*%(new_data[i,])\n",
    "}\n",
    "d<-2*(sqrt(var))\n",
    "estim<-beta.hat[1]+beta.hat[2]*new_data[,2]+beta.hat[3]*new_data[,2]^2+beta.hat[4]*new_data[,2]^3\n",
    "conf_low<-estim-d\n",
    "conf_high<-estim+d\n",
    "plot(estim,main=\"Estimated Model with analytical CI\",type=\"l\")\n",
    "lines(conf_low,lty=2,col=\"red\")\n",
    "lines(conf_high,lty=2,col=\"blue\")"
   ]
  },
  {
   "cell_type": "markdown",
   "metadata": {},
   "source": [
    "b) Calculate the naive bootstrap confidence intervals for B bootstrap draws from the original data, such that the nominal coverage for the two methods is the same."
   ]
  },
  {
   "cell_type": "code",
   "execution_count": 16,
   "metadata": {},
   "outputs": [
    {
     "data": {
      "image/png": "[encoded data removed]",
      "text/plain": [
       "plot without title"
      ]
     },
     "metadata": {},
     "output_type": "display_data"
    }
   ],
   "source": [
    "## computing Bootstraped CI's\n",
    "B=200\n",
    "b_sample<-matrix(NA,N,B)\n",
    "beta.hat<-matrix(NA,length(X),B)\n",
    "data<-cbind(y,X)\n",
    "function_B<-matrix(NA,length(x.grid),B)\n",
    "for(i in 1:B)\n",
    "{\n",
    "  XB<- data[sample(nrow(data),replace=T, N), ]\n",
    "  beta.hat<-solve(t(XB[,2:5]) %*% XB[,2:5]) %*% t(XB[,2:5]) %*%XB[,1]\n",
    "  function_B[,i]<-beta.hat[1]+beta.hat[2]*x.grid+beta.hat[3]*x.grid^2+beta.hat[4]*x.grid^3\n",
    "}\n",
    "#plot(function_B[,1])\n",
    "#plot(function_B[,2])\n",
    "sorted<-t(apply(function_B,1,sort))\n",
    "# Calculate the empirical quantiles\n",
    "conf_highB<-sorted[,195]\n",
    "conf_lowB<-sorted[,5]\n",
    "plot(estim,type=\"l\",lty=3)\n",
    "lines(conf_highB)\n",
    "lines(conf_lowB)\n",
    "lines(conf_low,lty=2,col=\"red\")\n",
    "lines(conf_high,lty=2,col=\"blue\")\n",
    "lines(true_model,col=\"green\")"
   ]
  },
  {
   "cell_type": "markdown",
   "metadata": {},
   "source": [
    "c) Calculate the coverage probability at four different values of X, chosen by you."
   ]
  },
  {
   "cell_type": "code",
   "execution_count": 5,
   "metadata": {},
   "outputs": [
    {
     "data": {
      "text/html": [
       "<span style=white-space:pre-wrap>'Coverage Probability of Bootstrap:  1'</span>"
      ],
      "text/latex": [
       "'Coverage Probability of Bootstrap:  1'"
      ],
      "text/markdown": [
       "<span style=white-space:pre-wrap>'Coverage Probability of Bootstrap:  1'</span>"
      ],
      "text/plain": [
       "[1] \"Coverage Probability of Bootstrap:  1\""
      ]
     },
     "metadata": {},
     "output_type": "display_data"
    },
    {
     "data": {
      "text/html": [
       "<span style=white-space:pre-wrap>'Coverage Probability of Parametric:  1'</span>"
      ],
      "text/latex": [
       "'Coverage Probability of Parametric:  1'"
      ],
      "text/markdown": [
       "<span style=white-space:pre-wrap>'Coverage Probability of Parametric:  1'</span>"
      ],
      "text/plain": [
       "[1] \"Coverage Probability of Parametric:  1\""
      ]
     },
     "metadata": {},
     "output_type": "display_data"
    }
   ],
   "source": [
    "## computing Coverage Probabilities\n",
    "cov_prob_B<-true_model>conf_lowB&true_model<conf_highB\n",
    "paste('Coverage Probability of Bootstrap: ', sum(cov_prob_B)/length(x.grid))\n",
    "cov_prob_A<-true_model>conf_low&true_model<conf_high\n",
    "paste('Coverage Probability of Parametric: ', sum(cov_prob_A)/length(x.grid))"
   ]
  },
  {
   "cell_type": "markdown",
   "metadata": {},
   "source": [
    "d) Calculate the interval length at four different values of X."
   ]
  },
  {
   "cell_type": "code",
   "execution_count": 37,
   "metadata": {},
   "outputs": [
    {
     "data": {
      "text/html": [
       "'The number of times the bootstrapped interval length is larger than the analytical one'"
      ],
      "text/latex": [
       "'The number of times the bootstrapped interval length is larger than the analytical one'"
      ],
      "text/markdown": [
       "'The number of times the bootstrapped interval length is larger than the analytical one'"
      ],
      "text/plain": [
       "[1] \"The number of times the bootstrapped interval length is larger than the analytical one\""
      ]
     },
     "metadata": {},
     "output_type": "display_data"
    },
    {
     "data": {
      "text/html": [
       "123"
      ],
      "text/latex": [
       "123"
      ],
      "text/markdown": [
       "123"
      ],
      "text/plain": [
       "[1] 123"
      ]
     },
     "metadata": {},
     "output_type": "display_data"
    }
   ],
   "source": [
    "## comupting interval length\n",
    "int_lengthB<-conf_highB-conf_lowB\n",
    "int_length<-conf_high-conf_low\n",
    "paste('The number of times the bootstrapped interval length is larger than the analytical one:')\n",
    "sum(int_lengthB/int_length>1)"
   ]
  },
  {
   "cell_type": "markdown",
   "metadata": {},
   "source": [
    "**Simulation Study**\n",
    "\n",
    "Evaluate the two types of confidence intervals above along two dimensions: interval length and coverage probability.\n",
    "\n",
    "a) Calculate both for a small simulation study of 100 repetitions."
   ]
  },
  {
   "cell_type": "code",
   "execution_count": 3,
   "metadata": {},
   "outputs": [
    {
     "data": {
      "text/html": [
       "<span style=white-space:pre-wrap>'Coverage Probability, analytical standard errors:      0.978'</span>"
      ],
      "text/latex": [
       "'Coverage Probability, analytical standard errors:      0.978'"
      ],
      "text/markdown": [
       "<span style=white-space:pre-wrap>'Coverage Probability, analytical standard errors:      0.978'</span>"
      ],
      "text/plain": [
       "[1] \"Coverage Probability, analytical standard errors:      0.978\""
      ]
     },
     "metadata": {},
     "output_type": "display_data"
    },
    {
     "data": {
      "text/html": [
       "<span style=white-space:pre-wrap>'Coverage Probability:                                                   0.831'</span>"
      ],
      "text/latex": [
       "'Coverage Probability:                                                   0.831'"
      ],
      "text/markdown": [
       "<span style=white-space:pre-wrap>'Coverage Probability:                                                   0.831'</span>"
      ],
      "text/plain": [
       "[1] \"Coverage Probability:                                                   0.831\""
      ]
     },
     "metadata": {},
     "output_type": "display_data"
    },
    {
     "data": {
      "text/html": [
       "<span style=white-space:pre-wrap>'Interval length ratio sum, if &gt;0.5*N:                            5.4'</span>"
      ],
      "text/latex": [
       "'Interval length ratio sum, if >0.5*N:                            5.4'"
      ],
      "text/markdown": [
       "<span style=white-space:pre-wrap>'Interval length ratio sum, if &gt;0.5*N:                            5.4'</span>"
      ],
      "text/plain": [
       "[1] \"Interval length ratio sum, if >0.5*N:                            5.4\""
      ]
     },
     "metadata": {},
     "output_type": "display_data"
    },
    {
     "data": {
      "text/html": [
       "<span style=white-space:pre-wrap>'avg Interval length:                                                      5.12697604381123'</span>"
      ],
      "text/latex": [
       "'avg Interval length:                                                      5.12697604381123'"
      ],
      "text/markdown": [
       "<span style=white-space:pre-wrap>'avg Interval length:                                                      5.12697604381123'</span>"
      ],
      "text/plain": [
       "[1] \"avg Interval length:                                                      5.12697604381123\""
      ]
     },
     "metadata": {},
     "output_type": "display_data"
    },
    {
     "data": {
      "text/html": [
       "<span style=white-space:pre-wrap>'avg Interval length (B):                                                4.14725457615847'</span>"
      ],
      "text/latex": [
       "'avg Interval length (B):                                                4.14725457615847'"
      ],
      "text/markdown": [
       "<span style=white-space:pre-wrap>'avg Interval length (B):                                                4.14725457615847'</span>"
      ],
      "text/plain": [
       "[1] \"avg Interval length (B):                                                4.14725457615847\""
      ]
     },
     "metadata": {},
     "output_type": "display_data"
    }
   ],
   "source": [
    "### Simulation Study to check different methods given a certain DGP process\n",
    "data.conf<-function(model,N)\n",
    "{\n",
    "  ## Simulating OLS samples and plot the regression lines\n",
    "  #set.seed(123)\n",
    "  # Two explanatory variables plus an intercept:\n",
    "  #N         <- 200\n",
    "  X.1       <- rep(1, N)\n",
    "  X.2      <- rnorm(N, mean=0, sd=1) #(pseudo) random numbers form a normal distr\n",
    "  X         <- cbind(X.1, X.2,X.2^2,X.2^3)\n",
    "  # Error term\n",
    "  if(model==1)\n",
    "  {\n",
    "    eps       <-rnorm(N,0,10)# \n",
    "  }\n",
    "  if(model==2)\n",
    "  {\n",
    "    eps       <-rgamma(N,0.1,0.01)\n",
    "    eps<-scale(eps, scale = FALSE)\n",
    "  }\n",
    "  if(model==3)\n",
    "  {\n",
    "    eps       <-(X.2^2)*rnorm(N,0,10)# \n",
    "  }\n",
    "  ## Different distribution\n",
    "  if(model==4)\n",
    "  {\n",
    "    # Sample N random uniforms U\n",
    "    U =runif(N)\n",
    "    # Variable to store the samples from the mixture distribution                                             \n",
    "    eps = rep(NA,N)\n",
    "    # Sampling from the mixture\n",
    "    for(i in 1:N){\n",
    "      if(U[i]<.3){\n",
    "        eps[i] = rnorm(1,-5.9,1)\n",
    "      }else if(U[i]<.8){\n",
    "        eps[i] = rnorm(1,4.1,1)\n",
    "      }else{\n",
    "        eps[i] = rnorm(1,-1.9,.1)\n",
    "      }\n",
    "    }\n",
    "  }\n",
    "  # Density plot of the random samples\n",
    "  #plot(density(eps),main=\"Density Estimate of the Mixture Model\")\n",
    "  ####################################################################\n",
    "  if(model==5)\n",
    "  {\n",
    "    eps       <-  rt(N, df=1)# \n",
    "  }\n",
    "  \n",
    "  #plot(density(eps),main=\"Density Estimate of the t-distribution\")\n",
    "  \n",
    "  \n",
    "  if(model==6)\n",
    "  {\n",
    "    # Sample N random uniforms U\n",
    "    \n",
    "    # Variable to store the samples from the mixture distribution                                             \n",
    "    eps =  runif(N,-1,1)\n",
    "    # Sampling from the mixture\n",
    "  }\n",
    "  \n",
    "  ## Heteroscedastic error term\n",
    "  beta.vec  <- c(1,1.5,-1.5,1.5)\n",
    "  y         <- X %*% beta.vec + eps\n",
    "  # Solving for beta hat\n",
    "  beta.hat <- solve(t(X) %*% X) %*% t(X) %*% y\n",
    "  beta.hat\n",
    "  x.grid<-sort(X.2) #seq(min(X.2),max(X.2),le=N)\n",
    "  true_model<-beta.vec[1]+beta.vec[2]*x.grid+beta.vec[3]*x.grid^2+beta.vec[4]*x.grid^3\n",
    "  estim_model<-beta.hat[1]+beta.hat[2]*x.grid+beta.hat[3]*x.grid^2+beta.hat[4]*x.grid^3\n",
    "  #plot(estim_model,type=\"l\")\n",
    "  #lines(true_model,type=\"l\",lty=1,col=\"red\")\n",
    "  #Calculate the covariance matrix\n",
    "  #calculate the fitted values\n",
    "  y.hat<- X %*% beta.hat \n",
    "  eps.hat<-y-X %*% beta.hat\n",
    "  #calculate the covariance matrix\n",
    "  se<-(t(eps.hat)%*%(eps.hat))/(N-5)\n",
    "  cov<-se[1]*solve(t(X) %*% X)\n",
    "  new_data<-X[order(X[,2]),]\n",
    "  #new_data<-x.grid\n",
    "  var<-c()\n",
    "  for(i in 1:N)\n",
    "  {\n",
    "    var[i]=t(new_data[i,])%*%cov%*%(new_data[i,])\n",
    "  }\n",
    "  d<-2*(sqrt(var))\n",
    "  estim<-beta.hat[1]+beta.hat[2]*new_data[,2]+beta.hat[3]*new_data[,2]^2+beta.hat[4]*new_data[,2]^3\n",
    "  conf_low<-estim-d\n",
    "  conf_high<-estim+d\n",
    "  #plot(estim,type=\"l\")\n",
    "  #lines(conf_low,lty=2,col=\"red\")\n",
    "  #lines(conf_high,lty=2,col=\"blue\")\n",
    "  ## Bootstrapped confidence intervals\n",
    "  B=N\n",
    "  b_sample<-matrix(NA,N,B)\n",
    "  beta.hat<-matrix(NA,length(X),B)\n",
    "  data<-cbind(y,X)\n",
    "  function_B<-matrix(NA,length(x.grid),B)\n",
    "  \n",
    "  for(i in 1:B)\n",
    "  {\n",
    "    XB<- data[sample(nrow(data),replace=T, N), ]\n",
    "    beta.hat<-solve(t(XB[,2:5]) %*% XB[,2:5]) %*% t(XB[,2:5]) %*%XB[,1]\n",
    "    function_B[,i]<-beta.hat[1]+beta.hat[2]*x.grid+beta.hat[3]*x.grid^2+beta.hat[4]*x.grid^3\n",
    "  }\n",
    "  #plot(function_B[,1])\n",
    "  #plot(function_B[,2])\n",
    "  sorted<-t(apply(function_B,1,sort)) \n",
    "  # Calculate the empirical quantiles\n",
    "  conf_highB<-sorted[,B*0.95]\n",
    "  conf_lowB<-sorted[,B*0.05]\n",
    "  ###########################################\n",
    "  #plot(estim,type=\"l\",lty=3)\n",
    "  #lines(conf_highB)\n",
    "  #lines(conf_lowB)\n",
    "  #lines(conf_low,lty=2,col=\"red\")\n",
    "  #lines(conf_high,lty=2,col=\"blue\")\n",
    "  #lines(true_model,col=\"green\")\n",
    "  ## Calculate the coverage probabilities\n",
    "  cov_prob_B<-true_model>conf_lowB&true_model<conf_highB\n",
    "  ratio1_B= sum(cov_prob_B)/length(x.grid)\n",
    "  cov_prob_A<-true_model>conf_low&true_model<conf_high\n",
    "  ratio1=sum(cov_prob_A)/length(x.grid)\n",
    "  ## Calculate interval length\n",
    "  int_lengthB<-conf_highB-conf_lowB\n",
    "  int_length<-conf_high-conf_low\n",
    "  ratio2=sum(int_lengthB/int_length>1)\n",
    "  ratio2_int=mean(int_length)\n",
    "  ratioB_int=mean(int_lengthB)\n",
    "  return(list(ratio2=ratio2,ratio1_B=ratio1_B,ratio1=ratio1,ratio2_int=ratio2_int,ratioB_int=ratioB_int,conf_high=conf_high,conf_low=conf_low,conf_highB=conf_highB,conf_lowB=conf_lowB,true_model=true_model,estim=estim))\n",
    "}\n",
    "##########\n",
    "reps<-5\n",
    "result_1<-replicate(reps,data.conf(model=1,N=200)$ratio1)\n",
    "result_1B<-replicate(reps,data.conf(model=1,N=200)$ratio1_B)\n",
    "result_2<-replicate(reps,data.conf(model=1,N=200)$ratio2)\n",
    "result_int<-replicate(reps,data.conf(model=1,N=200)$ratio2_int)\n",
    "result_int_B<-replicate(reps,data.conf(model=1,N=200)$ratioB_int)\n",
    "#conf_highB<-replicate(reps,data.conf(model=1,N=200)$conf_highB)\n",
    "#conf_lowB<-replicate(reps,data.conf(model=1,N=200)$conf_lowB)\n",
    "#conf_low<-replicate(reps,data.conf(model=1,N=200)$conf_low)\n",
    "#conf_high<-replicate(reps,data.conf(model=1,N=200)$conf_high)\n",
    "#true_model<-replicate(reps,data.conf(model=1,N=200)$true_model)\n",
    "#estim<-replicate(reps,data.conf(model=1,N=200)$estim)\n",
    "#plot(estim,type=\"l\",lty=3)\n",
    "#  lines(conf_highB)\n",
    "#  lines(conf_lowB)\n",
    "#  lines(conf_low,lty=2,col=\"red\")\n",
    "#  lines(conf_high,lty=2,col=\"blue\")\n",
    "#  lines(true_model,col=\"green\")\n",
    "# cov.prob, analytical standard errors\n",
    "paste('Coverage Probability, analytical standard errors:     ', mean(result_1))\n",
    "# cov_ probability, \n",
    "paste('Coverage Probability:                                                  ',mean(result_1B))\n",
    "# interval length ratio sum, if >0.5*N: \n",
    "paste('Interval length ratio sum, if >0.5*N:                           ',mean(result_2))\n",
    "# avg.interval_length\n",
    "paste('avg Interval length:                                                     ',mean(result_int))\n",
    "# avg.interval_length\n",
    "paste('avg Interval length (B):                                               ',mean(result_int_B))"
   ]
  },
  {
   "cell_type": "markdown",
   "metadata": {},
   "source": [
    "b) How could you change the data-generating process to give a competitive advantage to the bootstrap?\n",
    "Suggest two changes and check each in a simulation study."
   ]
  },
  {
   "cell_type": "code",
   "execution_count": 7,
   "metadata": {},
   "outputs": [
    {
     "data": {
      "text/html": [
       "<span style=white-space:pre-wrap>'Coverage Probability, analytical standard errors:      0.949'</span>"
      ],
      "text/latex": [
       "'Coverage Probability, analytical standard errors:      0.949'"
      ],
      "text/markdown": [
       "<span style=white-space:pre-wrap>'Coverage Probability, analytical standard errors:      0.949'</span>"
      ],
      "text/plain": [
       "[1] \"Coverage Probability, analytical standard errors:      0.949\""
      ]
     },
     "metadata": {},
     "output_type": "display_data"
    },
    {
     "data": {
      "text/html": [
       "<span style=white-space:pre-wrap>'Coverage Probability:                                                   0.95'</span>"
      ],
      "text/latex": [
       "'Coverage Probability:                                                   0.95'"
      ],
      "text/markdown": [
       "<span style=white-space:pre-wrap>'Coverage Probability:                                                   0.95'</span>"
      ],
      "text/plain": [
       "[1] \"Coverage Probability:                                                   0.95\""
      ]
     },
     "metadata": {},
     "output_type": "display_data"
    },
    {
     "data": {
      "text/html": [
       "<span style=white-space:pre-wrap>'Interval length ratio sum, if &gt;0.5*N:                            35.6'</span>"
      ],
      "text/latex": [
       "'Interval length ratio sum, if >0.5*N:                            35.6'"
      ],
      "text/markdown": [
       "<span style=white-space:pre-wrap>'Interval length ratio sum, if &gt;0.5*N:                            35.6'</span>"
      ],
      "text/plain": [
       "[1] \"Interval length ratio sum, if >0.5*N:                            35.6\""
      ]
     },
     "metadata": {},
     "output_type": "display_data"
    },
    {
     "data": {
      "text/html": [
       "<span style=white-space:pre-wrap>'avg Interval length:                                                      15.4348623029568'</span>"
      ],
      "text/latex": [
       "'avg Interval length:                                                      15.4348623029568'"
      ],
      "text/markdown": [
       "<span style=white-space:pre-wrap>'avg Interval length:                                                      15.4348623029568'</span>"
      ],
      "text/plain": [
       "[1] \"avg Interval length:                                                      15.4348623029568\""
      ]
     },
     "metadata": {},
     "output_type": "display_data"
    },
    {
     "data": {
      "text/html": [
       "<span style=white-space:pre-wrap>'avg Interval length (B):                                                12.7946411942827'</span>"
      ],
      "text/latex": [
       "'avg Interval length (B):                                                12.7946411942827'"
      ],
      "text/markdown": [
       "<span style=white-space:pre-wrap>'avg Interval length (B):                                                12.7946411942827'</span>"
      ],
      "text/plain": [
       "[1] \"avg Interval length (B):                                                12.7946411942827\""
      ]
     },
     "metadata": {},
     "output_type": "display_data"
    }
   ],
   "source": [
    "## for the  gamma\n",
    "result_1<-replicate(reps,data.conf(model=2,N=200)$ratio1)\n",
    "result_1B<-replicate(reps,data.conf(model=2,N=200)$ratio1_B)\n",
    "result_2<-replicate(reps,data.conf(model=2,N=200)$ratio2)\n",
    "result_int<-replicate(reps,data.conf(model=2,N=200)$ratio2_int)\n",
    "result_int_B<-replicate(reps,data.conf(model=2,N=200)$ratioB_int)\n",
    "#conf_highB<-replicate(reps,data.conf(model=2,N=200)$conf_highB)\n",
    "#conf_lowB<-replicate(reps,data.conf(model=2,N=200)$conf_lowB)\n",
    "#conf_low<-replicate(reps,data.conf(model=2,N=200)$conf_low)\n",
    "#conf_high<-replicate(reps,data.conf(model=2,N=200)$conf_high)\n",
    "#true_model<-replicate(reps,data.conf(model=2,N=200)$true_model)\n",
    "#estim<-replicate(reps,data.conf(model=2,N=200)$estim)\n",
    "#plot(estim,type=\"l\",lty=3)\n",
    "#  lines(conf_highB)\n",
    "#  lines(conf_lowB)\n",
    "#  lines(conf_low,lty=2,col=\"red\")\n",
    "#  lines(conf_high,lty=2,col=\"blue\")\n",
    "#  lines(true_model,col=\"green\")\n",
    "# cov.prob, analytical standard errors\n",
    "paste('Coverage Probability, analytical standard errors:     ', mean(result_1))\n",
    "# cov_ probability, \n",
    "paste('Coverage Probability:                                                  ',mean(result_1B))\n",
    "# interval length ratio sum, if >0.5*N: \n",
    "paste('Interval length ratio sum, if >0.5*N:                           ',mean(result_2))\n",
    "# avg.interval_length\n",
    "paste('avg Interval length:                                                     ',mean(result_int))\n",
    "# avg.interval_length\n",
    "paste('avg Interval length (B):                                               ',mean(result_int_B))"
   ]
  },
  {
   "cell_type": "code",
   "execution_count": 4,
   "metadata": {},
   "outputs": [
    {
     "data": {
      "text/html": [
       "<span style=white-space:pre-wrap>'Coverage Probability, analytical standard errors:      0.897'</span>"
      ],
      "text/latex": [
       "'Coverage Probability, analytical standard errors:      0.897'"
      ],
      "text/markdown": [
       "<span style=white-space:pre-wrap>'Coverage Probability, analytical standard errors:      0.897'</span>"
      ],
      "text/plain": [
       "[1] \"Coverage Probability, analytical standard errors:      0.897\""
      ]
     },
     "metadata": {},
     "output_type": "display_data"
    },
    {
     "data": {
      "text/html": [
       "<span style=white-space:pre-wrap>'Coverage Probability:                                                   0.971'</span>"
      ],
      "text/latex": [
       "'Coverage Probability:                                                   0.971'"
      ],
      "text/markdown": [
       "<span style=white-space:pre-wrap>'Coverage Probability:                                                   0.971'</span>"
      ],
      "text/plain": [
       "[1] \"Coverage Probability:                                                   0.971\""
      ]
     },
     "metadata": {},
     "output_type": "display_data"
    },
    {
     "data": {
      "text/html": [
       "<span style=white-space:pre-wrap>'Interval length ratio sum, if &gt;0.5*N:                            100.2'</span>"
      ],
      "text/latex": [
       "'Interval length ratio sum, if >0.5*N:                            100.2'"
      ],
      "text/markdown": [
       "<span style=white-space:pre-wrap>'Interval length ratio sum, if &gt;0.5*N:                            100.2'</span>"
      ],
      "text/plain": [
       "[1] \"Interval length ratio sum, if >0.5*N:                            100.2\""
      ]
     },
     "metadata": {},
     "output_type": "display_data"
    },
    {
     "data": {
      "text/html": [
       "<span style=white-space:pre-wrap>'avg Interval length:                                                      8.53708632304374'</span>"
      ],
      "text/latex": [
       "'avg Interval length:                                                      8.53708632304374'"
      ],
      "text/markdown": [
       "<span style=white-space:pre-wrap>'avg Interval length:                                                      8.53708632304374'</span>"
      ],
      "text/plain": [
       "[1] \"avg Interval length:                                                      8.53708632304374\""
      ]
     },
     "metadata": {},
     "output_type": "display_data"
    },
    {
     "data": {
      "text/html": [
       "<span style=white-space:pre-wrap>'avg Interval length (B):                                                7.90607309765732'</span>"
      ],
      "text/latex": [
       "'avg Interval length (B):                                                7.90607309765732'"
      ],
      "text/markdown": [
       "<span style=white-space:pre-wrap>'avg Interval length (B):                                                7.90607309765732'</span>"
      ],
      "text/plain": [
       "[1] \"avg Interval length (B):                                                7.90607309765732\""
      ]
     },
     "metadata": {},
     "output_type": "display_data"
    }
   ],
   "source": [
    "## For the heteroscedastic errors\n",
    "result_1<-replicate(reps,data.conf(model=3,N=200)$ratio1)\n",
    "result_1B<-replicate(reps,data.conf(model=3,N=200)$ratio1_B)\n",
    "result_2<-replicate(reps,data.conf(model=3,N=200)$ratio2)\n",
    "result_int<-replicate(reps,data.conf(model=3,N=200)$ratio2_int)\n",
    "result_int_B<-replicate(reps,data.conf(model=3,N=200)$ratioB_int)\n",
    "#conf_highB<-replicate(reps,data.conf(model=3,N=200)$conf_highB)\n",
    "#conf_lowB<-replicate(reps,data.conf(model=3,N=200)$conf_lowB)\n",
    "#conf_low<-replicate(reps,data.conf(model=3,N=200)$conf_low)\n",
    "#conf_high<-replicate(reps,data.conf(model=3,N=200)$conf_high)\n",
    "#true_model<-replicate(reps,data.conf(model=3,N=200)$true_model)\n",
    "#estim<-replicate(reps,data.conf(model=3,N=200)$estim)\n",
    "#plot(estim,type=\"l\",lty=3)\n",
    "#  lines(conf_highB)\n",
    "#  lines(conf_lowB)\n",
    "#  lines(conf_low,lty=2,col=\"red\")\n",
    "#  lines(conf_high,lty=2,col=\"blue\")\n",
    "#  lines(true_model,col=\"green\")\n",
    "# cov.prob, analytical standard errors\n",
    "paste('Coverage Probability, analytical standard errors:     ', mean(result_1))\n",
    "# cov_ probability, \n",
    "paste('Coverage Probability:                                                  ',mean(result_1B))\n",
    "# interval length ratio sum, if >0.5*N: \n",
    "paste('Interval length ratio sum, if >0.5*N:                           ',mean(result_2))\n",
    "# avg.interval_length\n",
    "paste('avg Interval length:                                                     ',mean(result_int))\n",
    "# avg.interval_length\n",
    "paste('avg Interval length (B):                                               ',mean(result_int_B))"
   ]
  },
  {
   "cell_type": "markdown",
   "metadata": {},
   "source": [
    "### Note: for Heteroskedastic errors Bootstrapped CI's performes better\n",
    "\n",
    "**in all other cases, the analytical standard error/ CI is preferable**"
   ]
  },
  {
   "cell_type": "code",
   "execution_count": 5,
   "metadata": {},
   "outputs": [
    {
     "data": {
      "text/html": [
       "<span style=white-space:pre-wrap>'Coverage Probability, analytical standard errors:      0.943'</span>"
      ],
      "text/latex": [
       "'Coverage Probability, analytical standard errors:      0.943'"
      ],
      "text/markdown": [
       "<span style=white-space:pre-wrap>'Coverage Probability, analytical standard errors:      0.943'</span>"
      ],
      "text/plain": [
       "[1] \"Coverage Probability, analytical standard errors:      0.943\""
      ]
     },
     "metadata": {},
     "output_type": "display_data"
    },
    {
     "data": {
      "text/html": [
       "<span style=white-space:pre-wrap>'Coverage Probability:                                                   0.811'</span>"
      ],
      "text/latex": [
       "'Coverage Probability:                                                   0.811'"
      ],
      "text/markdown": [
       "<span style=white-space:pre-wrap>'Coverage Probability:                                                   0.811'</span>"
      ],
      "text/plain": [
       "[1] \"Coverage Probability:                                                   0.811\""
      ]
     },
     "metadata": {},
     "output_type": "display_data"
    },
    {
     "data": {
      "text/html": [
       "<span style=white-space:pre-wrap>'Interval length ratio sum, if &gt;0.5*N:                            3.2'</span>"
      ],
      "text/latex": [
       "'Interval length ratio sum, if >0.5*N:                            3.2'"
      ],
      "text/markdown": [
       "<span style=white-space:pre-wrap>'Interval length ratio sum, if &gt;0.5*N:                            3.2'</span>"
      ],
      "text/plain": [
       "[1] \"Interval length ratio sum, if >0.5*N:                            3.2\""
      ]
     },
     "metadata": {},
     "output_type": "display_data"
    },
    {
     "data": {
      "text/html": [
       "<span style=white-space:pre-wrap>'avg Interval length:                                                      2.25281913962345'</span>"
      ],
      "text/latex": [
       "'avg Interval length:                                                      2.25281913962345'"
      ],
      "text/markdown": [
       "<span style=white-space:pre-wrap>'avg Interval length:                                                      2.25281913962345'</span>"
      ],
      "text/plain": [
       "[1] \"avg Interval length:                                                      2.25281913962345\""
      ]
     },
     "metadata": {},
     "output_type": "display_data"
    },
    {
     "data": {
      "text/html": [
       "<span style=white-space:pre-wrap>'avg Interval length (B):                                                1.81301460357552'</span>"
      ],
      "text/latex": [
       "'avg Interval length (B):                                                1.81301460357552'"
      ],
      "text/markdown": [
       "<span style=white-space:pre-wrap>'avg Interval length (B):                                                1.81301460357552'</span>"
      ],
      "text/plain": [
       "[1] \"avg Interval length (B):                                                1.81301460357552\""
      ]
     },
     "metadata": {},
     "output_type": "display_data"
    }
   ],
   "source": [
    "## For the mixture model\n",
    "result_1<-replicate(reps,data.conf(model=4,N=200)$ratio1)\n",
    "result_1B<-replicate(reps,data.conf(model=4,N=200)$ratio1_B)\n",
    "result_2<-replicate(reps,data.conf(model=4,N=200)$ratio2)\n",
    "result_int<-replicate(reps,data.conf(model=4,N=200)$ratio2_int)\n",
    "result_int_B<-replicate(reps,data.conf(model=4,N=200)$ratioB_int)\n",
    "#conf_highB<-replicate(reps,data.conf(model=4,N=200)$conf_highB)\n",
    "#conf_lowB<-replicate(reps,data.conf(model=4,N=200)$conf_lowB)\n",
    "#conf_low<-replicate(reps,data.conf(model=4,N=200)$conf_low)\n",
    "#conf_high<-replicate(reps,data.conf(model=4,N=200)$conf_high)\n",
    "#true_model<-replicate(reps,data.conf(model=4,N=200)$true_model)\n",
    "#estim<-replicate(reps,data.conf(model=4,N=200)$estim)\n",
    "#plot(estim,type=\"l\",lty=3)\n",
    "#  lines(conf_highB)\n",
    "#  lines(conf_lowB)\n",
    "#  lines(conf_low,lty=2,col=\"red\")\n",
    "#  lines(conf_high,lty=2,col=\"blue\")\n",
    "#  lines(true_model,col=\"green\")\n",
    "# cov.prob, analytical standard errors\n",
    "paste('Coverage Probability, analytical standard errors:     ', mean(result_1))\n",
    "# cov_ probability, \n",
    "paste('Coverage Probability:                                                  ',mean(result_1B))\n",
    "# interval length ratio sum, if >0.5*N: \n",
    "paste('Interval length ratio sum, if >0.5*N:                           ',mean(result_2))\n",
    "# avg.interval_length\n",
    "paste('avg Interval length:                                                     ',mean(result_int))\n",
    "# avg.interval_length\n",
    "paste('avg Interval length (B):                                               ',mean(result_int_B))"
   ]
  },
  {
   "cell_type": "code",
   "execution_count": 6,
   "metadata": {},
   "outputs": [
    {
     "data": {
      "text/html": [
       "<span style=white-space:pre-wrap>'Coverage Probability, analytical standard errors:      1'</span>"
      ],
      "text/latex": [
       "'Coverage Probability, analytical standard errors:      1'"
      ],
      "text/markdown": [
       "<span style=white-space:pre-wrap>'Coverage Probability, analytical standard errors:      1'</span>"
      ],
      "text/plain": [
       "[1] \"Coverage Probability, analytical standard errors:      1\""
      ]
     },
     "metadata": {},
     "output_type": "display_data"
    },
    {
     "data": {
      "text/html": [
       "<span style=white-space:pre-wrap>'Coverage Probability:                                                   0.901'</span>"
      ],
      "text/latex": [
       "'Coverage Probability:                                                   0.901'"
      ],
      "text/markdown": [
       "<span style=white-space:pre-wrap>'Coverage Probability:                                                   0.901'</span>"
      ],
      "text/plain": [
       "[1] \"Coverage Probability:                                                   0.901\""
      ]
     },
     "metadata": {},
     "output_type": "display_data"
    },
    {
     "data": {
      "text/html": [
       "<span style=white-space:pre-wrap>'Interval length ratio sum, if &gt;0.5*N:                            1'</span>"
      ],
      "text/latex": [
       "'Interval length ratio sum, if >0.5*N:                            1'"
      ],
      "text/markdown": [
       "<span style=white-space:pre-wrap>'Interval length ratio sum, if &gt;0.5*N:                            1'</span>"
      ],
      "text/plain": [
       "[1] \"Interval length ratio sum, if >0.5*N:                            1\""
      ]
     },
     "metadata": {},
     "output_type": "display_data"
    },
    {
     "data": {
      "text/html": [
       "<span style=white-space:pre-wrap>'avg Interval length:                                                      0.289316576943655'</span>"
      ],
      "text/latex": [
       "'avg Interval length:                                                      0.289316576943655'"
      ],
      "text/markdown": [
       "<span style=white-space:pre-wrap>'avg Interval length:                                                      0.289316576943655'</span>"
      ],
      "text/plain": [
       "[1] \"avg Interval length:                                                      0.289316576943655\""
      ]
     },
     "metadata": {},
     "output_type": "display_data"
    },
    {
     "data": {
      "text/html": [
       "<span style=white-space:pre-wrap>'avg Interval length (B):                                                0.238589305785196'</span>"
      ],
      "text/latex": [
       "'avg Interval length (B):                                                0.238589305785196'"
      ],
      "text/markdown": [
       "<span style=white-space:pre-wrap>'avg Interval length (B):                                                0.238589305785196'</span>"
      ],
      "text/plain": [
       "[1] \"avg Interval length (B):                                                0.238589305785196\""
      ]
     },
     "metadata": {},
     "output_type": "display_data"
    }
   ],
   "source": [
    "## For the t distribution\n",
    "result_1<-replicate(reps,data.conf(model=6,N=200)$ratio1)\n",
    "result_1B<-replicate(reps,data.conf(model=6,N=200)$ratio1_B)\n",
    "result_2<-replicate(reps,data.conf(model=6,N=200)$ratio2)\n",
    "result_int<-replicate(reps,data.conf(model=6,N=200)$ratio2_int)\n",
    "result_int_B<-replicate(reps,data.conf(model=6,N=200)$ratioB_int)\n",
    "#conf_highB<-replicate(reps,data.conf(model=6,N=200)$conf_highB)\n",
    "#conf_lowB<-replicate(reps,data.conf(model=6,N=200)$conf_lowB)\n",
    "#conf_low<-replicate(reps,data.conf(model=6,N=200)$conf_low)\n",
    "#conf_high<-replicate(reps,data.conf(model=6,N=200)$conf_high)\n",
    "#true_model<-replicate(reps,data.conf(model=6,N=200)$true_model)\n",
    "#estim<-replicate(reps,data.conf(model=6,N=200)$estim)\n",
    "#plot(estim,type=\"l\",lty=3)\n",
    "#  lines(conf_highB)\n",
    "#  lines(conf_lowB)\n",
    "#  lines(conf_low,lty=2,col=\"red\")\n",
    "#  lines(conf_high,lty=2,col=\"blue\")\n",
    "#  lines(true_model,col=\"green\")\n",
    "# cov.prob, analytical standard errors\n",
    "paste('Coverage Probability, analytical standard errors:     ', mean(result_1))\n",
    "# cov_ probability, \n",
    "paste('Coverage Probability:                                                  ',mean(result_1B))\n",
    "# interval length ratio sum, if >0.5*N: \n",
    "paste('Interval length ratio sum, if >0.5*N:                           ',mean(result_2))\n",
    "# avg.interval_length\n",
    "paste('avg Interval length:                                                     ',mean(result_int))\n",
    "# avg.interval_length\n",
    "paste('avg Interval length (B):                                               ',mean(result_int_B))"
   ]
  }
 ],
 "metadata": {
  "kernelspec": {
   "display_name": "R",
   "language": "R",
   "name": "ir"
  },
  "language_info": {
   "codemirror_mode": "r",
   "file_extension": ".r",
   "mimetype": "text/x-r-source",
   "name": "R",
   "pygments_lexer": "r",
   "version": "3.6.0"
  }
 },
 "nbformat": 4,
 "nbformat_minor": 2
}
