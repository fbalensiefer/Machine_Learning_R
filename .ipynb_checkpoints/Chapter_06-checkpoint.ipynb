{
 "cells": [
  {
   "cell_type": "markdown",
   "metadata": {},
   "source": [
    "# Decision Trees\n",
    "\n",
    "tree-based methods for **Regression** and **Classification** Problems\n",
    "\n",
    " - by stratifying or segmenting the predictor space into a number of simple regions\n",
    " \n",
    "to improve prediction accuracy we  use Bagging, Random Forests and Boosting approaches"
   ]
  },
  {
   "cell_type": "markdown",
   "metadata": {},
   "source": [
    "## Regression Trees\n",
    "\n",
    "**Notation:**\n",
    "\n",
    " - **internal nodes** are kind of thresholds/ conditions where the tree splits\n",
    " \n",
    " - **terminal nodes/ leaves** are at the end of a tree and consisting of observation set $$ R_K=\\{X|year\\geq 4.5 \\wedge hits < 117.5\\}$$\n",
    " \n",
    " - segments of trees that connect the nodes **branches**\n",
    " \n",
    "**Procedure:**\n",
    " 1. divide the predictor space into $J$ distinct and non-overlapping regions $R_1,R_2,\\dots,R_J$\n",
    " \n",
    " 2. For every observation in $R_j$ make the same prediction, mean of response value for the training observations in $R_j$ (e.g. $\\overline{x}(R_j)=10 \\quad \\Rightarrow \\quad \\forall x\\in R_j \\quad \\hat{y}(x)=10$)\n",
    " \n",
    "### How to construct $R_1,R_2,\\dots,R_J$?\n",
    "\n",
    "The Goal is to find boxes that minimize the RSS\n",
    "\n",
    "$$ \\sum_{j=1}^J \\sum_{i \\in R_j} (y_i-\\hat{y}_{R_i})^2 \\quad,\\hat{y}_{R_i}=\\overline{x}(R_j)$$\n",
    "\n",
    "Note: it's computational infeasible to consider every possbile partition of $J$ boxes\n",
    "\n",
    "**Solution: Recursive binary splitting**\n",
    "\n",
    " 1. consider all predictors $X_1,\\dots,X_p$ and all possible values of $s$ for each predictor\n",
    " \n",
    " 2. choose the predictor and cutpoint such that the resulting tree has the lowest RSS\n",
    " \n",
    " 3. continue until stopping criterion is reached (e.g. only 5 observations per $R_j$ are left)\n",
    " \n",
    "Problem: predictions may only be good for training data $\\Rightarrow$ **overfitting**\n",
    "\n",
    " - smaller tree (fewer splits): \n",
    " * lower variance\n",
    " * better interpretation\n",
    " But: little bias!\n",
    " \n",
    " - alternative stopping criterion: use RSS threshold\n",
    " But: there is a chance to miss an important split!\n",
    " \n",
    "### Tree Pruning\n",
    "\n",
    "For each value of $\\alpha$ there corresponds a subtree $T \\subset T_0$ such that\n",
    "\n",
    "$$ min \\sum_{m=1}^{\\mid T \\mid} \\sum_{i: x_i\\in R_m} (y_i-\\hat{y}_{R_m})^2 + \\alpha \\mid T \\mid $$\n",
    "\n",
    "we now constructed a trade-off between subtrees complexity and fit to the training data\n",
    "\n",
    "use CV or Validation set approach to select $\\alpha$"
   ]
  },
  {
   "cell_type": "markdown",
   "metadata": {},
   "source": [
    "## Classification Trees\n",
    "\n",
    "using Regression/ Classification Trees to solve Classification Problems. Remember response variable is now qualitative!\n",
    "\n",
    "**Predict:** \n",
    "each observation belongs to the most commonly occuring class of training observations in the region to which it belongs\n",
    "\n",
    "**Interpretation:**\n",
    " - class prediction corresponding to a particular terminal node region\n",
    " \n",
    " - class proportions among the training observations that fall into that region\n",
    " \n",
    "Note: we need alternative measure for RSS!\n",
    " * classification error rate\n",
    "   $$ E=1-max_k (\\hat{p}_{mk})$$\n",
    "   $\\hat{p}_{mk}$ is the proportion of training observations in m'th region from class $k$\n",
    "   \n",
    " * Gini-Index\n",
    "   $$ G=\\sum_{k=1}^K \\hat{p}_{mk}(1-\\hat{p}_{mk})$$\n",
    "   \n",
    " * Cross-entropy\n",
    "   $$ D= - \\sum_{k=1}^K \\hat{p}_{mk} log(\\hat{p}_{mk}) $$\n",
    "   \n",
    "in general E is not sufficient sensitive for tree-growing, while for G \\& D the following holds:\n",
    "*the lower G \\& D, the purer the nodes are*\n",
    "\n",
    "**Summary:**\n",
    " - building tree: use Gini-Index, Cross-entropy\n",
    " \n",
    " - tree pruning: use classification error rate"
   ]
  },
  {
   "cell_type": "markdown",
   "metadata": {},
   "source": [
    "## Linear Models vs. Trees\n",
    "\n",
    "first compare the functional form:\n",
    "\n",
    " - linear models\n",
    "   $$ f(x)=\\beta_0 + \\sum_{j=1}^p X_j \\beta_j $$\n",
    " \n",
    " - tree based methods\n",
    "   $$ f(x)= \\sum_{m=1}^M c_m* I_{x\\in R_m} $$\n",
    "   \n",
    "Advantages and Disadvantages of Trees\n",
    "\n",
    " * easy to explain, even for non-professionals\n",
    " \n",
    " * closely mirror human  decision-making\n",
    " \n",
    " * displayed graphically\n",
    " \n",
    " * easily handle qualitative predictors & missing data\n",
    " \n",
    " * not same predictive accuracy\n",
    " \n",
    " * can be very non-robust"
   ]
  },
  {
   "cell_type": "markdown",
   "metadata": {},
   "source": [
    "## Bagging, Boosting and Random Forests\n",
    "\n",
    "### Bagging\n",
    "\n",
    "**Idea:** use Bootstrap to improve statistical learning tools\n",
    "\n",
    "**Procedure:**\n",
    " 1. take B seperate training sets from the population\n",
    " \n",
    " 2. build a seperate prediction model using each training set\n",
    "    $\\hat{f}^1(x), \\hat{f}^2(x),\\dots, \\hat{f}^B(x)$\n",
    " \n",
    " 3. average resulting predictors\n",
    "    $\\hat{f}_{bag}(x)=\\frac{1}{B}\\sum_{b=1}^B \\hat{f}^{*b}(x)$\n",
    "    \n",
    "#### Out-of-Bag (OOB)\n",
    "\n",
    "since Bagging uses Bootstrap, we can estimate test error without CV or validation set approach.\n",
    "\n",
    "Key to bagging is that trees are repeatedly fit to Bootstrapped subsets\n",
    "\n",
    "one can show that each bagged tree uses only $2/3$ of obserbations, thus $1/3$ are refered as OOB observations\n",
    "\n",
    "### Random Forests\n",
    "\n",
    "**Idea:** \n",
    "improve Bagging by decorrelating the trees (subtrees)\n",
    "\n",
    "**Procedure:**\n",
    " 1. build a forest of decision trees bootstraped training samples\n",
    " \n",
    " 2. each time a split in a tree is considered, random sample $m$ of the full set of $p$ predictors is choosen\n",
    " \n",
    " 3. fresh sample of $m$ predictors in taken at each split (typically $m\\approx \\sqrt{p}$)\n",
    " \n",
    "**Why?**\n",
    "suppose one very strong predictor and other moderate predictors $\\Rightarrow$ Bagged trees will all use ths strong predictor in the Top Split. Hence, averaging the correlated quantities will not reduce variance in the same magnitude as uncorrelated quantities!\n",
    "\n",
    "**Random Forests and Bagging**\n",
    "main difference is the choice of predictor subset $m$\n",
    "\n",
    "\n",
    "### Boosting\n",
    "\n",
    "**Idea:**\n",
    "similar to Bagging, except that the trees are grown **sequentially** - each tree uses information from the previous tree (no Bootstrap sampling, instead using residuals form previous tree as response to fit the current tree)\n",
    "\n",
    "**Procedure:**\n",
    " 1. set $\\hat{f}(x)=0$ and $r_i=y_i$ for all $i$ in the training set\n",
    " \n",
    " 2. for  $b=1,2,\\dots,B$ repeat:\n",
    "   \n",
    "   a) fit a tree $\\hat{f}^b$ with $d$ splits ($d+1$ terminal nodes) to training data ($X,r$)\n",
    "   \n",
    "   b) update $\\hat{f}$ by adding in a shrunken version of the new tree:\n",
    "    $$ \\hat{f}(x) \\leftarrow \\hat{f}(x) + \\lambda\\hat{f}^b(x) $$\n",
    "   \n",
    "   c) update residuals:\n",
    "    $$ r_i \\leftarrow r_i - \\lambda \\hat{f}^b(x_i) $$\n",
    "  \n",
    " 3. output the boosted model:\n",
    "    $$ \\hat{f}(x) = \\sum_{b=1}^B \\lambda \\hat{f}^b(x) $$\n",
    "    \n",
    "      \n",
    " - $B$ is the number of trees (use CV to select $B$)\n",
    " \n",
    " - $\\lambda$ shrinkage parameter controls the rate at which boosting learns (typically 0.01 or 0.001)\n",
    " \n",
    " - $d$ *interaction depth* number of splits in each tree (typically 1 or 2)"
   ]
  },
  {
   "cell_type": "markdown",
   "metadata": {},
   "source": [
    "## Exercises"
   ]
  },
  {
   "cell_type": "code",
   "execution_count": 4,
   "metadata": {},
   "outputs": [
    {
     "name": "stderr",
     "output_type": "stream",
     "text": [
      "Installing package into 'C:/Users/fabia/OneDrive/Dokumente/R/win-library/3.6'\n",
      "(as 'lib' is unspecified)\n"
     ]
    },
    {
     "name": "stdout",
     "output_type": "stream",
     "text": [
      "package 'tree' successfully unpacked and MD5 sums checked\n",
      "\n",
      "The downloaded binary packages are in\n",
      "\tC:\\Users\\fabia\\AppData\\Local\\Temp\\RtmpEt8qEe\\downloaded_packages\n"
     ]
    },
    {
     "name": "stderr",
     "output_type": "stream",
     "text": [
      "Warning message:\n",
      "\"package 'tree' was built under R version 3.6.1\""
     ]
    },
    {
     "data": {
      "image/png": "[encoded data removed]",
      "text/plain": [
       "plot without title"
      ]
     },
     "metadata": {},
     "output_type": "display_data"
    },
    {
     "data": {
      "image/png": "[encoded data removed]",
      "text/plain": [
       "plot without title"
      ]
     },
     "metadata": {},
     "output_type": "display_data"
    }
   ],
   "source": [
    "install.packages(\"tree\")\n",
    "library(\"tree\")\n",
    "set.seed(1987)\n",
    "\n",
    "# DGP function\n",
    "dgp1 <- function(n = 250, sd = 2, beta = c(.5, -1, 1.5, .5)) {\n",
    "  X <- cbind(X <- replicate(2, rnorm(n, sd = sd)), X ^ 2)\n",
    "  y <- X %*% beta + rnorm(n)\n",
    "  list(y=y, x1=X[, 1], x2 = X[, 2])\n",
    "}\n",
    "\n",
    "\n",
    "# plot function \n",
    "dgp1_func <- function(x1, x2) .5 * x1 - 1 * x2 + 1.5 * x1 ^ 2 + .5 * x2 ^ 2\n",
    "x1 <- x2 <- seq(-2, 2, le = 50)\n",
    "y  <- outer(x1, x2, dgp1_func)\n",
    "persp(x1, x2, y, theta = 200, phi = 350)\n",
    "\n",
    "\n",
    "data_train <- dgp1()\n",
    "tree_model <- tree(y ~ x1 + x2, data_train, split = \"deviance\")\n",
    "plot(tree_model)\n",
    "text(tree_model, pretty = 0)"
   ]
  },
  {
   "cell_type": "code",
   "execution_count": 5,
   "metadata": {},
   "outputs": [
    {
     "data": {
      "text/html": [
       "<dl class=dl-horizontal>\n",
       "\t<dt>mse_linear</dt>\n",
       "\t\t<dd>115.759421203261</dd>\n",
       "\t<dt>mse_tree</dt>\n",
       "\t\t<dd>9.71027196629251</dd>\n",
       "</dl>\n"
      ],
      "text/latex": [
       "\\begin{description*}\n",
       "\\item[mse\\textbackslash{}\\_linear] 115.759421203261\n",
       "\\item[mse\\textbackslash{}\\_tree] 9.71027196629251\n",
       "\\end{description*}\n"
      ],
      "text/markdown": [
       "mse_linear\n",
       ":   115.759421203261mse_tree\n",
       ":   9.71027196629251\n",
       "\n"
      ],
      "text/plain": [
       "mse_linear   mse_tree \n",
       "115.759421   9.710272 "
      ]
     },
     "metadata": {},
     "output_type": "display_data"
    },
    {
     "data": {
      "text/html": [
       "<dl class=dl-horizontal>\n",
       "\t<dt>amse_linear</dt>\n",
       "\t\t<dd>146.225698670252</dd>\n",
       "\t<dt>amse_tree</dt>\n",
       "\t\t<dd>14.090352116384</dd>\n",
       "</dl>\n"
      ],
      "text/latex": [
       "\\begin{description*}\n",
       "\\item[amse\\textbackslash{}\\_linear] 146.225698670252\n",
       "\\item[amse\\textbackslash{}\\_tree] 14.090352116384\n",
       "\\end{description*}\n"
      ],
      "text/markdown": [
       "amse_linear\n",
       ":   146.225698670252amse_tree\n",
       ":   14.090352116384\n",
       "\n"
      ],
      "text/plain": [
       "amse_linear   amse_tree \n",
       "  146.22570    14.09035 "
      ]
     },
     "metadata": {},
     "output_type": "display_data"
    },
    {
     "data": {
      "text/html": [
       "<dl class=dl-horizontal>\n",
       "\t<dt>amse_linear</dt>\n",
       "\t\t<dd>146.36993012779</dd>\n",
       "\t<dt>amse_tree</dt>\n",
       "\t\t<dd>13.1363275972553</dd>\n",
       "\t<dt>amse_linear2</dt>\n",
       "\t\t<dd>1.02183627752379</dd>\n",
       "</dl>\n"
      ],
      "text/latex": [
       "\\begin{description*}\n",
       "\\item[amse\\textbackslash{}\\_linear] 146.36993012779\n",
       "\\item[amse\\textbackslash{}\\_tree] 13.1363275972553\n",
       "\\item[amse\\textbackslash{}\\_linear2] 1.02183627752379\n",
       "\\end{description*}\n"
      ],
      "text/markdown": [
       "amse_linear\n",
       ":   146.36993012779amse_tree\n",
       ":   13.1363275972553amse_linear2\n",
       ":   1.02183627752379\n",
       "\n"
      ],
      "text/plain": [
       " amse_linear    amse_tree amse_linear2 \n",
       "  146.369930    13.136328     1.021836 "
      ]
     },
     "metadata": {},
     "output_type": "display_data"
    }
   ],
   "source": [
    "compute_mse <- function(model_obj, data_test) {\n",
    "  new_df <- data.frame(x1 = data_test$x1, x2 = data_test$x2)\n",
    "  pred   <- predict(model_obj, newdata = new_df)\n",
    "  \n",
    "  mean((data_test$y - pred) ** 2)\n",
    "}\n",
    "\n",
    "linear_model  <- lm(y ~ x1 + x2 - 1, data_train)\n",
    "\n",
    "data_test <- dgp1(n = 100)\n",
    "\n",
    "mse_linear <- compute_mse(linear_model, data_test)\n",
    "mse_tree   <- compute_mse(tree_model, data_test)\n",
    "c(mse_linear=mse_linear, mse_tree=mse_tree)\n",
    "\n",
    "\n",
    "monte_carlo_simu <- function(nsim = 1000) {\n",
    "  mse_linear <- replicate(nsim, compute_mse(linear_model, dgp1(n = 100)))\n",
    "  mse_tree   <- replicate(nsim, compute_mse(tree_model, dgp1(n = 100)))\n",
    "  \n",
    "  c(amse_linear=mean(mse_linear), amse_tree=mean(mse_tree))\n",
    "}\n",
    "monte_carlo_simu()\n",
    "\n",
    "# OLS with squared covariates \n",
    "X      <- with(data_train, cbind(x1, x2, x1^2, x2^2))\n",
    "beta_2 <- solve(t(X) %*% X) %*% t(X) %*% data_train$y\n",
    "\n",
    "monte_carlo_simu2 <- function(nsim = 1000) {\n",
    "  mse_2 <- function(data) {\n",
    "    X_test <- with(data, cbind(x1, x2, x1^2, x2^2))\n",
    "    \n",
    "    mean((data$y - X_test %*% beta_2)^2)\n",
    "  }\n",
    "  \n",
    "  mean(replicate(nsim, mse_2(dgp1(n = 100))))\n",
    "}\n",
    "c(monte_carlo_simu(), amse_linear2=monte_carlo_simu2())"
   ]
  },
  {
   "cell_type": "code",
   "execution_count": 6,
   "metadata": {},
   "outputs": [
    {
     "data": {
      "image/png": "[encoded data removed]",
      "text/plain": [
       "plot without title"
      ]
     },
     "metadata": {},
     "output_type": "display_data"
    },
    {
     "data": {
      "image/png": "[encoded data removed]",
      "text/plain": [
       "plot without title"
      ]
     },
     "metadata": {},
     "output_type": "display_data"
    }
   ],
   "source": [
    "# DGPs well suited for analysis using regression trees\n",
    "\n",
    "#dgp2 <- function(n = 250) {\n",
    "#  x1 <- rnorm(n, sd = 2)\n",
    "#  x2 <- rnorm(n, sd = 2)\n",
    "#  y <- 5 * I(x1 < 0) + 2 * I(x2 < 0) + 3 * I(x1 > 0 & x2 > 0) + \n",
    "#          2 * I(x1 < 0 & x2 < 0) + \n",
    "#            1 * I(x1 < 1.5 & x1 > 1 & x2 < 1.5 & x2 > 1)\n",
    "#  list(y=y, x1=x1, x2=x2)\n",
    "#}\n",
    "\n",
    "dgp2_func <- function(x1, x2) {\n",
    "  5 * I(x1 < 0) + 2 * I(x2 < 0) + 3 * I(x1 > 0 & x2 > 0) + \n",
    "    2 * I(x1 < 0 & x2 < 0) + \n",
    "      1 * I(x1 < 1.5 & x1 > 1 & x2 < 1.5 & x2 > 1)\n",
    "}\n",
    "\n",
    "x1 <- seq(-3, 3, le = 50)\n",
    "x2 <- seq(-3, 3, le = 50)\n",
    "y  <- outer(x1, x2, dgp2_func)\n",
    "persp(x1, x2, y, theta = 120, phi = 20)\n",
    "\n",
    "\n",
    "# DGPs well suited for OLS \n",
    "\n",
    "#dgp3 <- function(n = 250) {\n",
    "#  x1 <- rnorm(n, sd = 2)\n",
    "#  x2 <- rnorm(n, sd = 2)\n",
    "#  y <- x1 + x2\n",
    "#  list(y=y, x1=x1, x2=x2)\n",
    "#}\n",
    "\n",
    "dgp3_func <- function(x1, x2) x1 + x2\n",
    "\n",
    "x1 <- seq(-3, 3, le = 50)\n",
    "x2 <- seq(-3, 3, le = 50)\n",
    "y  <- outer(x1, x2, dgp3_func)\n",
    "persp(x1, x2, y, theta = 45, phi = 25)"
   ]
  }
 ],
 "metadata": {
  "kernelspec": {
   "display_name": "R",
   "language": "R",
   "name": "ir"
  },
  "language_info": {
   "codemirror_mode": "r",
   "file_extension": ".r",
   "mimetype": "text/x-r-source",
   "name": "R",
   "pygments_lexer": "r",
   "version": "3.6.0"
  }
 },
 "nbformat": 4,
 "nbformat_minor": 2
}
